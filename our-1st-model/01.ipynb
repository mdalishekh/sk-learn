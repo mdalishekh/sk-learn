{
 "cells": [
  {
   "cell_type": "markdown",
   "id": "f7d080e9",
   "metadata": {},
   "source": [
    "## Our first ML Model using Scikit-learn"
   ]
  },
  {
   "cell_type": "code",
   "execution_count": null,
   "id": "4bbe8828",
   "metadata": {},
   "outputs": [
    {
     "name": "stdout",
     "output_type": "stream",
     "text": [
      "['apple']\n",
      "['orange']\n"
     ]
    }
   ],
   "source": [
    "# Training a simple Decision Tree Classifier to distinguish between apples and oranges based on weight and color.\n",
    "from sklearn import tree\n",
    "\n",
    "# Step 1: Collect Data\n",
    "# Features: [weight (grams), color (0 = red, 1 = orange)]\n",
    "\n",
    "features = [\n",
    "    [150, 0],  # Apple\n",
    "    [170, 0],  # Apple\n",
    "    [130, 1],  # Orange\n",
    "    [120, 1],  # Orange\n",
    "]\n",
    "labels = [\"apple\", \"apple\", \"orange\", \"orange\"]\n",
    " \n",
    "# Step 2: Train a model\n",
    "clf = tree.DecisionTreeClassifier()\n",
    "clf = clf.fit(features, labels)\n",
    " \n",
    "# Step 3: Predict!\n",
    "print(clf.predict([[160, 0]]))  # Heavy and red-ish? Probably an apple!\n",
    "print(clf.predict([[115, 1]]))  # Light and orange? Probably an orange!"
   ]
  }
 ],
 "metadata": {
  "kernelspec": {
   "display_name": "data-science",
   "language": "python",
   "name": "python3"
  },
  "language_info": {
   "codemirror_mode": {
    "name": "ipython",
    "version": 3
   },
   "file_extension": ".py",
   "mimetype": "text/x-python",
   "name": "python",
   "nbconvert_exporter": "python",
   "pygments_lexer": "ipython3",
   "version": "3.13.2"
  }
 },
 "nbformat": 4,
 "nbformat_minor": 5
}
